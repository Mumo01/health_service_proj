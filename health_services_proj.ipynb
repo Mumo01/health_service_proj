{
  "nbformat": 4,
  "nbformat_minor": 0,
  "metadata": {
    "colab": {
      "provenance": [],
      "toc_visible": true,
      "authorship_tag": "ABX9TyPD/3FsZzqZVyYtoHN3NE7t",
      "include_colab_link": true
    },
    "kernelspec": {
      "name": "python3",
      "display_name": "Python 3"
    },
    "language_info": {
      "name": "python"
    }
  },
  "cells": [
    {
      "cell_type": "markdown",
      "metadata": {
        "id": "view-in-github",
        "colab_type": "text"
      },
      "source": [
        "<a href=\"https://colab.research.google.com/github/Mumo01/health_service_proj/blob/master/health_services_proj.ipynb\" target=\"_parent\"><img src=\"https://colab.research.google.com/assets/colab-badge.svg\" alt=\"Open In Colab\"/></a>"
      ]
    },
    {
      "cell_type": "code",
      "execution_count": 2,
      "metadata": {
        "id": "S51ZpAs0F6DD"
      },
      "outputs": [],
      "source": [
        "import pandas_profiling\n",
        "import pandas as pd\n",
        "import numpy as np"
      ]
    },
    {
      "cell_type": "markdown",
      "source": [
        "# GET THE DATASET"
      ],
      "metadata": {
        "id": "SaHXhLdyIg-h"
      }
    },
    {
      "cell_type": "code",
      "source": [
        "#get the hospital name only\n",
        "#get facility type separate\n",
        "#owner separated from owner experience\n",
        "#remove services column\n",
        "\n",
        "from google.colab import files\n",
        "uploaded = files.upload()"
      ],
      "metadata": {
        "colab": {
          "base_uri": "https://localhost:8080/",
          "height": 71
        },
        "id": "aP_iVUytIoWk",
        "outputId": "68de7738-0491-46ba-d169-b58cabe9e358"
      },
      "execution_count": 3,
      "outputs": [
        {
          "output_type": "display_data",
          "data": {
            "text/plain": [
              "<IPython.core.display.HTML object>"
            ],
            "text/html": [
              "\n",
              "     <input type=\"file\" id=\"files-c899fe91-9596-4503-a605-ae381f499e7b\" name=\"files[]\" multiple disabled\n",
              "        style=\"border:none\" />\n",
              "     <output id=\"result-c899fe91-9596-4503-a605-ae381f499e7b\">\n",
              "      Upload widget is only available when the cell has been executed in the\n",
              "      current browser session. Please rerun this cell to enable.\n",
              "      </output>\n",
              "      <script>// Copyright 2017 Google LLC\n",
              "//\n",
              "// Licensed under the Apache License, Version 2.0 (the \"License\");\n",
              "// you may not use this file except in compliance with the License.\n",
              "// You may obtain a copy of the License at\n",
              "//\n",
              "//      http://www.apache.org/licenses/LICENSE-2.0\n",
              "//\n",
              "// Unless required by applicable law or agreed to in writing, software\n",
              "// distributed under the License is distributed on an \"AS IS\" BASIS,\n",
              "// WITHOUT WARRANTIES OR CONDITIONS OF ANY KIND, either express or implied.\n",
              "// See the License for the specific language governing permissions and\n",
              "// limitations under the License.\n",
              "\n",
              "/**\n",
              " * @fileoverview Helpers for google.colab Python module.\n",
              " */\n",
              "(function(scope) {\n",
              "function span(text, styleAttributes = {}) {\n",
              "  const element = document.createElement('span');\n",
              "  element.textContent = text;\n",
              "  for (const key of Object.keys(styleAttributes)) {\n",
              "    element.style[key] = styleAttributes[key];\n",
              "  }\n",
              "  return element;\n",
              "}\n",
              "\n",
              "// Max number of bytes which will be uploaded at a time.\n",
              "const MAX_PAYLOAD_SIZE = 100 * 1024;\n",
              "\n",
              "function _uploadFiles(inputId, outputId) {\n",
              "  const steps = uploadFilesStep(inputId, outputId);\n",
              "  const outputElement = document.getElementById(outputId);\n",
              "  // Cache steps on the outputElement to make it available for the next call\n",
              "  // to uploadFilesContinue from Python.\n",
              "  outputElement.steps = steps;\n",
              "\n",
              "  return _uploadFilesContinue(outputId);\n",
              "}\n",
              "\n",
              "// This is roughly an async generator (not supported in the browser yet),\n",
              "// where there are multiple asynchronous steps and the Python side is going\n",
              "// to poll for completion of each step.\n",
              "// This uses a Promise to block the python side on completion of each step,\n",
              "// then passes the result of the previous step as the input to the next step.\n",
              "function _uploadFilesContinue(outputId) {\n",
              "  const outputElement = document.getElementById(outputId);\n",
              "  const steps = outputElement.steps;\n",
              "\n",
              "  const next = steps.next(outputElement.lastPromiseValue);\n",
              "  return Promise.resolve(next.value.promise).then((value) => {\n",
              "    // Cache the last promise value to make it available to the next\n",
              "    // step of the generator.\n",
              "    outputElement.lastPromiseValue = value;\n",
              "    return next.value.response;\n",
              "  });\n",
              "}\n",
              "\n",
              "/**\n",
              " * Generator function which is called between each async step of the upload\n",
              " * process.\n",
              " * @param {string} inputId Element ID of the input file picker element.\n",
              " * @param {string} outputId Element ID of the output display.\n",
              " * @return {!Iterable<!Object>} Iterable of next steps.\n",
              " */\n",
              "function* uploadFilesStep(inputId, outputId) {\n",
              "  const inputElement = document.getElementById(inputId);\n",
              "  inputElement.disabled = false;\n",
              "\n",
              "  const outputElement = document.getElementById(outputId);\n",
              "  outputElement.innerHTML = '';\n",
              "\n",
              "  const pickedPromise = new Promise((resolve) => {\n",
              "    inputElement.addEventListener('change', (e) => {\n",
              "      resolve(e.target.files);\n",
              "    });\n",
              "  });\n",
              "\n",
              "  const cancel = document.createElement('button');\n",
              "  inputElement.parentElement.appendChild(cancel);\n",
              "  cancel.textContent = 'Cancel upload';\n",
              "  const cancelPromise = new Promise((resolve) => {\n",
              "    cancel.onclick = () => {\n",
              "      resolve(null);\n",
              "    };\n",
              "  });\n",
              "\n",
              "  // Wait for the user to pick the files.\n",
              "  const files = yield {\n",
              "    promise: Promise.race([pickedPromise, cancelPromise]),\n",
              "    response: {\n",
              "      action: 'starting',\n",
              "    }\n",
              "  };\n",
              "\n",
              "  cancel.remove();\n",
              "\n",
              "  // Disable the input element since further picks are not allowed.\n",
              "  inputElement.disabled = true;\n",
              "\n",
              "  if (!files) {\n",
              "    return {\n",
              "      response: {\n",
              "        action: 'complete',\n",
              "      }\n",
              "    };\n",
              "  }\n",
              "\n",
              "  for (const file of files) {\n",
              "    const li = document.createElement('li');\n",
              "    li.append(span(file.name, {fontWeight: 'bold'}));\n",
              "    li.append(span(\n",
              "        `(${file.type || 'n/a'}) - ${file.size} bytes, ` +\n",
              "        `last modified: ${\n",
              "            file.lastModifiedDate ? file.lastModifiedDate.toLocaleDateString() :\n",
              "                                    'n/a'} - `));\n",
              "    const percent = span('0% done');\n",
              "    li.appendChild(percent);\n",
              "\n",
              "    outputElement.appendChild(li);\n",
              "\n",
              "    const fileDataPromise = new Promise((resolve) => {\n",
              "      const reader = new FileReader();\n",
              "      reader.onload = (e) => {\n",
              "        resolve(e.target.result);\n",
              "      };\n",
              "      reader.readAsArrayBuffer(file);\n",
              "    });\n",
              "    // Wait for the data to be ready.\n",
              "    let fileData = yield {\n",
              "      promise: fileDataPromise,\n",
              "      response: {\n",
              "        action: 'continue',\n",
              "      }\n",
              "    };\n",
              "\n",
              "    // Use a chunked sending to avoid message size limits. See b/62115660.\n",
              "    let position = 0;\n",
              "    do {\n",
              "      const length = Math.min(fileData.byteLength - position, MAX_PAYLOAD_SIZE);\n",
              "      const chunk = new Uint8Array(fileData, position, length);\n",
              "      position += length;\n",
              "\n",
              "      const base64 = btoa(String.fromCharCode.apply(null, chunk));\n",
              "      yield {\n",
              "        response: {\n",
              "          action: 'append',\n",
              "          file: file.name,\n",
              "          data: base64,\n",
              "        },\n",
              "      };\n",
              "\n",
              "      let percentDone = fileData.byteLength === 0 ?\n",
              "          100 :\n",
              "          Math.round((position / fileData.byteLength) * 100);\n",
              "      percent.textContent = `${percentDone}% done`;\n",
              "\n",
              "    } while (position < fileData.byteLength);\n",
              "  }\n",
              "\n",
              "  // All done.\n",
              "  yield {\n",
              "    response: {\n",
              "      action: 'complete',\n",
              "    }\n",
              "  };\n",
              "}\n",
              "\n",
              "scope.google = scope.google || {};\n",
              "scope.google.colab = scope.google.colab || {};\n",
              "scope.google.colab._files = {\n",
              "  _uploadFiles,\n",
              "  _uploadFilesContinue,\n",
              "};\n",
              "})(self);\n",
              "</script> "
            ]
          },
          "metadata": {}
        },
        {
          "output_type": "stream",
          "name": "stdout",
          "text": [
            "Saving kenya_health_facilities.csv to kenya_health_facilities.csv\n"
          ]
        }
      ]
    },
    {
      "cell_type": "code",
      "source": [
        "df = pd.read_csv('kenya_health_facilities.csv')"
      ],
      "metadata": {
        "id": "TwahDjmGKblE"
      },
      "execution_count": 4,
      "outputs": []
    },
    {
      "cell_type": "code",
      "source": [
        "df.head"
      ],
      "metadata": {
        "id": "x83sPxXDK3CY"
      },
      "execution_count": null,
      "outputs": []
    },
    {
      "cell_type": "code",
      "source": [
        "df.shape"
      ],
      "metadata": {
        "colab": {
          "base_uri": "https://localhost:8080/"
        },
        "id": "yLBE9yY3LevC",
        "outputId": "e5d23d66-4ec4-4b98-d4d2-8607b03ab843"
      },
      "execution_count": 6,
      "outputs": [
        {
          "output_type": "execute_result",
          "data": {
            "text/plain": [
              "(8932, 16)"
            ]
          },
          "metadata": {},
          "execution_count": 6
        }
      ]
    },
    {
      "cell_type": "code",
      "source": [
        "#df_filtered = df[df['Operation status'] != \"Operational\" ]"
      ],
      "metadata": {
        "id": "7QOEzqToj1Zf"
      },
      "execution_count": 7,
      "outputs": []
    },
    {
      "cell_type": "code",
      "source": [
        "#df_filtered.shape"
      ],
      "metadata": {
        "id": "mQTyN1utkjCz"
      },
      "execution_count": 8,
      "outputs": []
    },
    {
      "cell_type": "code",
      "source": [
        "#display(df_filtered)"
      ],
      "metadata": {
        "id": "Hgc_7sh6lKLr"
      },
      "execution_count": 9,
      "outputs": []
    },
    {
      "cell_type": "markdown",
      "source": [
        "Since the Operation Status, Approved, Closed public visible columns are same across the dataset, We can get rid of the columns. Service column is empty across the dataset so we get rid of it. The Registration Number is inconsistent and can not be used for analysis so get rid of the column."
      ],
      "metadata": {
        "id": "yllwUkSnlpQg"
      }
    },
    {
      "cell_type": "code",
      "source": [
        "#del df['Operation status']"
      ],
      "metadata": {
        "id": "USeRulx8lzQX"
      },
      "execution_count": 10,
      "outputs": []
    },
    {
      "cell_type": "code",
      "source": [
        "#del df['Service_names']"
      ],
      "metadata": {
        "id": "_Fx2L5svoDmI"
      },
      "execution_count": 11,
      "outputs": []
    },
    {
      "cell_type": "code",
      "source": [
        "#df_filtered = df[df['Approved'] != \"Yes\"]"
      ],
      "metadata": {
        "id": "ZQgD-zVNodsj"
      },
      "execution_count": 12,
      "outputs": []
    },
    {
      "cell_type": "code",
      "source": [
        "#del df['Approved']"
      ],
      "metadata": {
        "id": "8Fk1XQ09o6tP"
      },
      "execution_count": 13,
      "outputs": []
    },
    {
      "cell_type": "code",
      "source": [
        "#df_filtered = df[df['Closed'] != \"No\"]"
      ],
      "metadata": {
        "id": "GOT8IeRwp6uc"
      },
      "execution_count": 14,
      "outputs": []
    },
    {
      "cell_type": "code",
      "source": [
        "#del df['Closed']"
      ],
      "metadata": {
        "id": "Q0HGzC5aqIbP"
      },
      "execution_count": 15,
      "outputs": []
    },
    {
      "cell_type": "code",
      "source": [
        "#del df['Public visible']"
      ],
      "metadata": {
        "id": "EGmj4gUXqsrn"
      },
      "execution_count": 16,
      "outputs": []
    },
    {
      "cell_type": "code",
      "source": [
        "df"
      ],
      "metadata": {
        "id": "WtJ4L1IhaM3m"
      },
      "execution_count": null,
      "outputs": []
    },
    {
      "cell_type": "code",
      "source": [
        "df[['Owner', 'Owner Speciality']] = df['Owner'].where(df['Owner'] != \"Non-Governmental Organizations\").apply(lambda x:  pd.Series(str(x).split(\"-\")), 'Non-Governmental-Org')"
      ],
      "metadata": {
        "id": "7le8fJB4aQ39"
      },
      "execution_count": 18,
      "outputs": []
    },
    {
      "cell_type": "code",
      "source": [
        "pd.set_option('display.max_rows', 25)"
      ],
      "metadata": {
        "id": "wHbxuxCfdemF"
      },
      "execution_count": 19,
      "outputs": []
    },
    {
      "cell_type": "code",
      "source": [
        "df\n"
      ],
      "metadata": {
        "id": "ds_lv7Eqe_I6"
      },
      "execution_count": null,
      "outputs": []
    },
    {
      "cell_type": "code",
      "source": [
        "df_filtered = df[df['Owner'] == \"non\" ]"
      ],
      "metadata": {
        "id": "OdHjR_zNio3c"
      },
      "execution_count": 21,
      "outputs": []
    },
    {
      "cell_type": "code",
      "source": [
        "df_filtered.shape"
      ],
      "metadata": {
        "colab": {
          "base_uri": "https://localhost:8080/"
        },
        "id": "t8ZlFyxSisfM",
        "outputId": "8a90acfa-b87a-49a9-b359-b84025efe423"
      },
      "execution_count": 22,
      "outputs": [
        {
          "output_type": "execute_result",
          "data": {
            "text/plain": [
              "(0, 17)"
            ]
          },
          "metadata": {},
          "execution_count": 22
        }
      ]
    },
    {
      "cell_type": "code",
      "source": [
        "df['Owner'] = df['Owner'].replace('nan','Non_Government_Org')"
      ],
      "metadata": {
        "id": "lq3OyEMgix1Q"
      },
      "execution_count": 23,
      "outputs": []
    },
    {
      "cell_type": "code",
      "source": [
        "df"
      ],
      "metadata": {
        "id": "5q3yVaoejnKQ"
      },
      "execution_count": null,
      "outputs": []
    },
    {
      "cell_type": "code",
      "source": [
        "eighth_column = df.pop('Owner Speciality')\n",
        "df.insert(7, 'Owner Speciality', eighth_column)"
      ],
      "metadata": {
        "id": "45ujJshtkQ2A"
      },
      "execution_count": 25,
      "outputs": []
    },
    {
      "cell_type": "code",
      "source": [
        "fourth_column = df.pop('Cots')\n",
        "df.insert(3, 'Cots', fourth_column)"
      ],
      "metadata": {
        "id": "ImG8zG82lZbM"
      },
      "execution_count": 26,
      "outputs": []
    },
    {
      "cell_type": "code",
      "source": [
        "fourth_column = df.pop('Beds')\n",
        "df.insert(3, 'Beds', fourth_column)"
      ],
      "metadata": {
        "id": "xbv9shpsXjQr"
      },
      "execution_count": 27,
      "outputs": []
    },
    {
      "cell_type": "code",
      "source": [
        "df"
      ],
      "metadata": {
        "id": "JXDTtS9DlkOE"
      },
      "execution_count": null,
      "outputs": []
    },
    {
      "cell_type": "code",
      "source": [
        "df.Beds\n"
      ],
      "metadata": {
        "id": "WWagu4Q4zKki",
        "colab": {
          "base_uri": "https://localhost:8080/"
        },
        "outputId": "dde11005-ef34-4e44-fde3-c33a4582a181"
      },
      "execution_count": 29,
      "outputs": [
        {
          "output_type": "execute_result",
          "data": {
            "text/plain": [
              "0        0\n",
              "1        2\n",
              "2        4\n",
              "3       34\n",
              "4        0\n",
              "        ..\n",
              "8927     0\n",
              "8928     0\n",
              "8929     0\n",
              "8930     0\n",
              "8931     0\n",
              "Name: Beds, Length: 8932, dtype: int64"
            ]
          },
          "metadata": {},
          "execution_count": 29
        }
      ]
    },
    {
      "cell_type": "markdown",
      "source": [
        "# Perform Arithmetic Calculations"
      ],
      "metadata": {
        "id": "ZXJpDUaQzq7i"
      }
    },
    {
      "cell_type": "markdown",
      "source": [
        "Find mean of total beds in the clinics"
      ],
      "metadata": {
        "id": "LIZk5_Zlz06d"
      }
    },
    {
      "cell_type": "code",
      "source": [
        "df_mean= df[\"Beds\"].mean()\n"
      ],
      "metadata": {
        "id": "T5ByxzOmz0Pf"
      },
      "execution_count": 30,
      "outputs": []
    },
    {
      "cell_type": "code",
      "source": [
        "df_mean"
      ],
      "metadata": {
        "colab": {
          "base_uri": "https://localhost:8080/"
        },
        "id": "JblzVvbD0AJz",
        "outputId": "85e467bc-ec45-4ecf-ea99-7e278c8bea54"
      },
      "execution_count": 31,
      "outputs": [
        {
          "output_type": "execute_result",
          "data": {
            "text/plain": [
              "6.094827586206897"
            ]
          },
          "metadata": {},
          "execution_count": 31
        }
      ]
    },
    {
      "cell_type": "markdown",
      "source": [
        "Find Total number of clinics with beds"
      ],
      "metadata": {
        "id": "cVVj9E2Y0DoM"
      }
    },
    {
      "cell_type": "code",
      "source": [
        "df_bedcount = len(df[df['Beds'] != 0])"
      ],
      "metadata": {
        "id": "9nG50ZE30J13"
      },
      "execution_count": 54,
      "outputs": []
    },
    {
      "cell_type": "code",
      "source": [
        "df_bedcount"
      ],
      "metadata": {
        "id": "hGRxkYso1DMI"
      },
      "execution_count": null,
      "outputs": []
    },
    {
      "cell_type": "markdown",
      "source": [
        "Find Most frequent number of beds in Clinics"
      ],
      "metadata": {
        "id": "ZFUwW9Qn2NZg"
      }
    },
    {
      "cell_type": "code",
      "source": [],
      "metadata": {
        "id": "wnLxw9oIJ3Ak"
      },
      "execution_count": 33,
      "outputs": []
    },
    {
      "cell_type": "markdown",
      "source": [
        "# Data Analysis"
      ],
      "metadata": {
        "id": "painE5nxL1VV"
      }
    },
    {
      "cell_type": "markdown",
      "source": [
        "Find How many clinics are in each county"
      ],
      "metadata": {
        "id": "fFpB5Ye0L93J"
      }
    },
    {
      "cell_type": "code",
      "source": [
        "df.County"
      ],
      "metadata": {
        "id": "hDtWt4-PXJ-D"
      },
      "execution_count": null,
      "outputs": []
    },
    {
      "cell_type": "code",
      "source": [
        "df.County.value_counts(dropna = False)"
      ],
      "metadata": {
        "id": "BOwVZYJ1L9Zo"
      },
      "execution_count": null,
      "outputs": []
    },
    {
      "cell_type": "markdown",
      "source": [
        "Find How many clinics are in each constituency"
      ],
      "metadata": {
        "id": "cpVh23_2fNxn"
      }
    },
    {
      "cell_type": "code",
      "source": [
        "df.Constituency.value_counts()"
      ],
      "metadata": {
        "id": "KYPrX-4KfSTI"
      },
      "execution_count": null,
      "outputs": []
    },
    {
      "cell_type": "markdown",
      "source": [
        "Find How many beds are in each County"
      ],
      "metadata": {
        "id": "-spfRCvRf-E-"
      }
    },
    {
      "cell_type": "code",
      "source": [
        "df.groupby('County')['Beds'].value_counts()"
      ],
      "metadata": {
        "id": "eSiyvoOxf4z_"
      },
      "execution_count": null,
      "outputs": []
    },
    {
      "cell_type": "code",
      "source": [
        "df2 = df.groupby('County')['Beds'].sum()\n",
        "df4 = df.groupby('County')['Cots'].sum()"
      ],
      "metadata": {
        "id": "pHifRWULov50"
      },
      "execution_count": 51,
      "outputs": []
    },
    {
      "cell_type": "markdown",
      "source": [
        "Below is the sum of beds & Cots in each county and in each subcounty of a county"
      ],
      "metadata": {
        "id": "BKI_PCAipe-O"
      }
    },
    {
      "cell_type": "code",
      "source": [
        "df2"
      ],
      "metadata": {
        "id": "UjdYM0rxpHKm"
      },
      "execution_count": null,
      "outputs": []
    },
    {
      "cell_type": "code",
      "source": [
        "df4"
      ],
      "metadata": {
        "id": "JOwoPV3UqeO2"
      },
      "execution_count": null,
      "outputs": []
    },
    {
      "cell_type": "code",
      "source": [
        "df3 = df.groupby(['County','Sub county'])['Beds'].sum()\n",
        "df5 = df.groupby(['County', 'Sub county']) ['Cots'].sum()"
      ],
      "metadata": {
        "id": "Xuew_y7EpoyC"
      },
      "execution_count": 52,
      "outputs": []
    },
    {
      "cell_type": "code",
      "source": [
        "df_levels_beds = df.groupby(['County','Keph level'])['Beds'].sum()"
      ],
      "metadata": {
        "id": "laRUvjAj0Upe"
      },
      "execution_count": 99,
      "outputs": []
    },
    {
      "cell_type": "code",
      "source": [
        "df_levels_beds"
      ],
      "metadata": {
        "id": "eRc6l7v-0gZy"
      },
      "execution_count": null,
      "outputs": []
    },
    {
      "cell_type": "code",
      "source": [
        "df_levels_cots = df.groupby(['County','Keph level'])['Cots'].sum()"
      ],
      "metadata": {
        "id": "jCk2eU6n02lS"
      },
      "execution_count": 101,
      "outputs": []
    },
    {
      "cell_type": "code",
      "source": [
        "df_levels_cots"
      ],
      "metadata": {
        "id": "pBWNVrmn1C8a"
      },
      "execution_count": null,
      "outputs": []
    },
    {
      "cell_type": "code",
      "source": [
        "df5"
      ],
      "metadata": {
        "id": "LLVuXDrcqh2O"
      },
      "execution_count": null,
      "outputs": []
    },
    {
      "cell_type": "code",
      "source": [
        "df3"
      ],
      "metadata": {
        "id": "E4QgbfHAp1Be"
      },
      "execution_count": null,
      "outputs": []
    },
    {
      "cell_type": "markdown",
      "source": [
        "How many clinics are open late at night"
      ],
      "metadata": {
        "id": "FvG_myZNk4xz"
      }
    },
    {
      "cell_type": "code",
      "source": [
        "df_night = (df.Open_late_night== \"Yes\" )"
      ],
      "metadata": {
        "id": "j3HIjXNWwCaW"
      },
      "execution_count": 88,
      "outputs": []
    },
    {
      "cell_type": "code",
      "source": [
        "(df_night.sum())"
      ],
      "metadata": {
        "id": "qpgJLkp7xamH"
      },
      "execution_count": null,
      "outputs": []
    },
    {
      "cell_type": "markdown",
      "source": [
        "How many Clinics are open the whole day"
      ],
      "metadata": {
        "id": "jB9PGxW7yps3"
      }
    },
    {
      "cell_type": "code",
      "source": [
        "df_wholeday = (df.Open_whole_day == \"Yes\")"
      ],
      "metadata": {
        "id": "C_rWuyiuypK_"
      },
      "execution_count": 90,
      "outputs": []
    },
    {
      "cell_type": "code",
      "source": [
        "df_wholeday.sum()"
      ],
      "metadata": {
        "id": "DiRIqMYlzHs7"
      },
      "execution_count": null,
      "outputs": []
    },
    {
      "cell_type": "markdown",
      "source": [
        "How many Clinics are open during weekend"
      ],
      "metadata": {
        "id": "n8ShwjsRzS-i"
      }
    },
    {
      "cell_type": "code",
      "source": [
        "df_weekend = (df.Open_weekends == \"Yes\")"
      ],
      "metadata": {
        "id": "MwieSFkazPmX"
      },
      "execution_count": 95,
      "outputs": []
    },
    {
      "cell_type": "code",
      "source": [
        "df_weekend.sum()"
      ],
      "metadata": {
        "id": "Mwlf24YFzmba"
      },
      "execution_count": null,
      "outputs": []
    },
    {
      "cell_type": "markdown",
      "source": [
        "How many Clinics are openn during Public Holidays"
      ],
      "metadata": {
        "id": "cuoerbRGzqVc"
      }
    },
    {
      "cell_type": "code",
      "source": [
        "df_holidays = (df.Open_public_holidays == \"Yes\")"
      ],
      "metadata": {
        "id": "pC4cFLpjzwZT"
      },
      "execution_count": 97,
      "outputs": []
    },
    {
      "cell_type": "code",
      "source": [
        "df_holidays.sum()"
      ],
      "metadata": {
        "id": "mUasKEVsz2zR"
      },
      "execution_count": null,
      "outputs": []
    },
    {
      "cell_type": "markdown",
      "source": [
        "The ratio of Hospital Levels in each County & subcounty"
      ],
      "metadata": {
        "id": "zLGdgJMm0Ndf"
      }
    },
    {
      "cell_type": "code",
      "source": [
        "df_levels = df.groupby(['County', 'Keph level'])['Keph level'].count()"
      ],
      "metadata": {
        "id": "cLBObAOp1PnG"
      },
      "execution_count": 107,
      "outputs": []
    },
    {
      "cell_type": "code",
      "source": [
        "df_levels"
      ],
      "metadata": {
        "id": "bq8D53OX1gz_"
      },
      "execution_count": null,
      "outputs": []
    },
    {
      "cell_type": "code",
      "source": [
        "df_levels_subcounty = df.groupby(['County', 'Sub county', 'Keph level'])['Keph level'].count()"
      ],
      "metadata": {
        "id": "8Pt_VKFB2C1P"
      },
      "execution_count": 109,
      "outputs": []
    },
    {
      "cell_type": "code",
      "source": [
        "df_levels_subcounty"
      ],
      "metadata": {
        "id": "myJcfHdG2Epr"
      },
      "execution_count": null,
      "outputs": []
    }
  ]
}